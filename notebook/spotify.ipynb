{
 "metadata": {
  "name": ""
 },
 "nbformat": 3,
 "nbformat_minor": 0,
 "worksheets": [
  {
   "cells": [
    {
     "cell_type": "code",
     "collapsed": false,
     "input": [
      "import spotipy"
     ],
     "language": "python",
     "metadata": {},
     "outputs": [],
     "prompt_number": 1
    },
    {
     "cell_type": "code",
     "collapsed": false,
     "input": [
      "sp = spotipy.Spotify()"
     ],
     "language": "python",
     "metadata": {},
     "outputs": [],
     "prompt_number": 2
    },
    {
     "cell_type": "code",
     "collapsed": false,
     "input": [
      "tracks = sp.search(q='weezer', limit=20)\n",
      "for i, t in enumerate(tracks['tracks']['items']):\n",
      "    print ' ', i, t['name']"
     ],
     "language": "python",
     "metadata": {},
     "outputs": [
      {
       "output_type": "stream",
       "stream": "stdout",
       "text": [
        "  0 Buddy Holly\n",
        "  1 Say It Ain't So\n",
        "  2 My Name Is Jonas\n",
        "  3 Hash Pipe\n",
        "  4 Undone -- The Sweater Song\n",
        "  5 You Might Think\n",
        "  6 Pork And Beans\n",
        "  7 Memories\n",
        "  8 Island In The Sun\n",
        "  9 Surf Wax America\n",
        "  10 The World Has Turned And Left Me Here\n",
        "  11 (If You're Wondering If I Want You To) I Want You To\n",
        "  12 In The Garage\n",
        "  13 Beverly Hills\n",
        "  14 No One Else\n",
        "  15 Only In Dreams\n",
        "  16 Holiday\n",
        "  17 Pork And Beans\n",
        "  18 The Greatest Man That Ever Lived (Variations on a Shaker Hymn)\n",
        "  19 Beverly Hills\n"
       ]
      }
     ],
     "prompt_number": 15
    },
    {
     "cell_type": "code",
     "collapsed": false,
     "input": [],
     "language": "python",
     "metadata": {},
     "outputs": [],
     "prompt_number": 15
    },
    {
     "cell_type": "code",
     "collapsed": false,
     "input": [],
     "language": "python",
     "metadata": {},
     "outputs": []
    }
   ],
   "metadata": {}
  }
 ]
}