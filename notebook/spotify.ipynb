{
 "metadata": {
  "name": "",
  "signature": "sha256:e0f852b7a48791724b9fd7627a921ac6c95d5c2a91c4ac32524441de9345b433"
 },
 "nbformat": 3,
 "nbformat_minor": 0,
 "worksheets": [
  {
   "cells": [
    {
     "cell_type": "code",
     "collapsed": false,
     "input": [
      "import spotipy, spotipy.util\n",
      "from pymendez import auth"
     ],
     "language": "python",
     "metadata": {},
     "outputs": [],
     "prompt_number": 5
    },
    {
     "cell_type": "code",
     "collapsed": false,
     "input": [
      "username, ident, secret, token = auth('spotify',['username','id','secret', 'token'])\n",
      "scope = 'user-library-read'\n",
      "url='http://localhost:8080/debug'"
     ],
     "language": "python",
     "metadata": {},
     "outputs": [],
     "prompt_number": 23
    },
    {
     "cell_type": "code",
     "collapsed": true,
     "input": [
      "# Generate the Token if needed\n",
      "if False:\n",
      "    token = spotipy.util.prompt_for_user_token(username, scope, ident, secret, url)"
     ],
     "language": "python",
     "metadata": {},
     "outputs": [],
     "prompt_number": 24
    },
    {
     "cell_type": "code",
     "collapsed": false,
     "input": [
      "sp = spotipy.Spotify(auth=token)\n",
      "sp.trace = False"
     ],
     "language": "python",
     "metadata": {},
     "outputs": [],
     "prompt_number": 25
    },
    {
     "cell_type": "code",
     "collapsed": false,
     "input": [
      "tracks = sp.search(q='weezer', limit=20)\n",
      "for i, t in enumerate(tracks['tracks']['items']):\n",
      "    print ' ', i, t['name']"
     ],
     "language": "python",
     "metadata": {},
     "outputs": [
      {
       "output_type": "stream",
       "stream": "stdout",
       "text": [
        "  0 Island In The Sun\n",
        "  1 Buddy Holly\n",
        "  2 Say It Ain't So\n",
        "  3 My Name Is Jonas\n",
        "  4 Buddy Holly\n",
        "  5 Back To The Shack\n",
        "  6 Hash Pipe\n",
        "  7 Say It Ain't So\n",
        "  8 My Name Is Jonas\n",
        "  9 Pork And Beans\n",
        "  10 Undone -- The Sweater Song\n",
        "  11 You Might Think\n",
        "  12 Memories\n",
        "  13 The World Has Turned And Left Me Here\n",
        "  14 Surf Wax America\n",
        "  15 In The Garage\n",
        "  16 The Greatest Man That Ever Lived (Variations on a Shaker Hymn)\n",
        "  17 No One Else\n",
        "  18 Beverly Hills\n",
        "  19 Only In Dreams\n"
       ]
      }
     ],
     "prompt_number": 26
    },
    {
     "cell_type": "code",
     "collapsed": false,
     "input": [
      "results = sp.current_user_saved_tracks()\n",
      "for item in results['items']:\n",
      "    track = item['track']\n",
      "    print track['name'] + ' - ' + track['artists'][0]['name']"
     ],
     "language": "python",
     "metadata": {},
     "outputs": [
      {
       "output_type": "stream",
       "stream": "stdout",
       "text": [
        "Bang Bang - will.i.am\n",
        "Breezeblocks - alt-J\n",
        "Under Your Spell - Desire\n",
        "BTSTU (Edit) - Jai Paul\n",
        "Ecstasy - JJ\n",
        "Sheknowshebad - heRobust\n",
        "Treat Me Right - Original Mix - Keys N Krates\n",
        "Fooled - Buku\n",
        "Slide Through My Fingers - Tame Impala\n",
        "Wander - Tame Impala\n",
        "41 Mosquitoes Flying in Formation - Tame Impala\n",
        "Skeleton Tiger - Tame Impala\n",
        "Half Full Glass of Wine - Tame Impala\n",
        "Desire Be Desire Go - Tame Impala\n"
       ]
      }
     ],
     "prompt_number": 27
    },
    {
     "cell_type": "code",
     "collapsed": false,
     "input": [
      "def show_tracks(results):\n",
      "    for i, item in enumerate(tracks['items']):\n",
      "        track = item['track']\n",
      "        print \"   %d %32.32s %s\" % (i, track['artists'][0]['name'],\n",
      "            track['name'])\n",
      "def show_playlists(username):\n",
      "    playlists = sp.user_playlists(username)\n",
      "    for playlist in playlists['items']:\n",
      "        if playlist['owner']['id'] == username:\n",
      "            print\n",
      "            print playlist['name']\n",
      "            print '  total tracks', playlist['tracks']['total']\n",
      "            results = sp.user_playlist(username, playlist['id'],\n",
      "                fields=\"tracks,next\")\n",
      "            tracks = results['tracks']\n",
      "            show_tracks(tracks)\n",
      "            while tracks['next']:\n",
      "                tracks = sp.next(tracks)\n",
      "                show_tracks(tracks)\n",
      "\n",
      "# show_playlists(username)"
     ],
     "language": "python",
     "metadata": {},
     "outputs": [],
     "prompt_number": 32
    },
    {
     "cell_type": "code",
     "collapsed": false,
     "input": [],
     "language": "python",
     "metadata": {},
     "outputs": []
    },
    {
     "cell_type": "code",
     "collapsed": false,
     "input": [],
     "language": "python",
     "metadata": {},
     "outputs": []
    }
   ],
   "metadata": {}
  }
 ]
}